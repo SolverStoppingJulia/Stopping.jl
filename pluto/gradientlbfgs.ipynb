{
 "cells": [
  {
   "cell_type": "markdown",
   "metadata": {},
   "source": [
    "# ListofStates tutorial\n",
    "\n",
    " We illustrate here the use of ListofStates in dealing with a warm start\n",
    " procedure.\n",
    "\n",
    " ListofStates can also prove the user history over the iteration process.\n",
    "\n",
    " We compare the resolution of a convex unconstrained problem with 3 variants:\n",
    " - a steepest descent method\n",
    " - an inverse-BFGS method\n",
    " - a mix with 5 steps of steepest descent and then switching to BFGS with\n",
    "the history (using the strength of the ListofStates)."
   ]
  },
  {
   "cell_type": "code",
   "execution_count": 2,
   "metadata": {},
   "outputs": [],
   "source": [
    "using Stopping, NLPModels, LinearAlgebra, Test, Printf"
   ]
  },
  {
   "cell_type": "markdown",
   "metadata": {},
   "source": [
    "## Coding\n",
    "\n",
    "In preamble, we define a simple backtracking `armijo` line search that will be used in both algorithms."
   ]
  },
  {
   "cell_type": "code",
   "execution_count": 3,
   "metadata": {},
   "outputs": [
    {
     "data": {
      "text/plain": [
       "armijo (generic function with 2 methods)"
      ]
     },
     "execution_count": 3,
     "metadata": {},
     "output_type": "execute_result"
    }
   ],
   "source": [
    "import Stopping.armijo\n",
    "function armijo(xk, dk, fk, slope, f)\n",
    "  t = 1.0\n",
    "  fk_new = f(xk + dk)\n",
    "  while f(xk + t * dk) > fk + 1.0e-4 * t * slope\n",
    "    t /= 1.5\n",
    "    fk_new = f(xk + t * dk)\n",
    "  end\n",
    "  return t, fk_new\n",
    "end"
   ]
  },
  {
   "cell_type": "markdown",
   "metadata": {},
   "source": [
    "First, we define a `steepest_descent` algorithm."
   ]
  },
  {
   "cell_type": "code",
   "execution_count": 4,
   "metadata": {},
   "outputs": [
    {
     "data": {
      "text/plain": [
       "steepest_descent (generic function with 1 method)"
      ]
     },
     "execution_count": 4,
     "metadata": {},
     "output_type": "execute_result"
    }
   ],
   "source": [
    "function steepest_descent(stp :: NLPStopping)\n",
    "\n",
    "  xk = stp.current_state.x\n",
    "  fk, gk = objgrad(stp.pb, xk)\n",
    "\n",
    "  OK = update_and_start!(stp, fx = fk, gx = gk)\n",
    "\n",
    "  @printf \"%2s %9s %7s %7s %7s\\n\" \"k\" \"fk\" \"||∇f(x)||\" \"t\" \"λ\"\n",
    "  @printf \"%2d %7.1e %7.1e\\n\" stp.meta.nb_of_stop fk norm(stp.current_state.current_score)\n",
    "  while !OK\n",
    "    dk = - gk\n",
    "    slope = dot(dk, gk)\n",
    "    t, fk = armijo(xk, dk, fk, slope, x->obj(stp.pb, x))\n",
    "    xk += t * dk\n",
    "    fk, gk = objgrad(stp.pb, xk)\n",
    "    \n",
    "    OK = update_and_stop!(stp, x = xk, fx = fk, gx = gk)\n",
    "\n",
    "    @printf \"%2d %9.2e %7.1e %7.1e %7.1e\\n\" stp.meta.nb_of_stop fk norm(stp.current_state.current_score) t slope\n",
    "  end\n",
    "  return stp\n",
    "end"
   ]
  },
  {
   "cell_type": "markdown",
   "metadata": {},
   "source": [
    "Then, we give a BFGS-quasi Newton method. Note that the initial BFGS matrix can be set in input if not the identity matrix."
   ]
  },
  {
   "cell_type": "code",
   "execution_count": 5,
   "metadata": {},
   "outputs": [
    {
     "data": {
      "text/plain": [
       "bfgs_quasi_newton_armijo (generic function with 1 method)"
      ]
     },
     "execution_count": 5,
     "metadata": {},
     "output_type": "execute_result"
    }
   ],
   "source": [
    "function bfgs_quasi_newton_armijo(stp :: NLPStopping; Hk = nothing)\n",
    "\n",
    "  xk = stp.current_state.x\n",
    "  fk, gk = objgrad(stp.pb, xk)\n",
    "  gm = gk\n",
    "\n",
    "  dk, t = similar(gk), 1.\n",
    "  if isnothing(Hk)\n",
    "    Hk = I #start from identity matrix\n",
    "  end\n",
    "\n",
    "  OK = update_and_start!(stp, fx = fk, gx = gk)\n",
    "\n",
    "  @printf \"%2s %7s %7s %7s %7s\\n\" \"k\" \"fk\" \"||∇f(x)||\" \"t\" \"cos\"\n",
    "  @printf \"%2d %7.1e %7.1e\\n\" stp.meta.nb_of_stop fk norm(stp.current_state.current_score)\n",
    "\n",
    "  while !OK\n",
    "    if stp.meta.nb_of_stop != 0\n",
    "      sk = t * dk\n",
    "      yk = gk - gm\n",
    "      ρk = 1/dot(yk, sk)\n",
    "      #we need yk'*sk > 0 for instance yk'*sk ≥ 1.0e-2 * sk' * Hk * sk\n",
    "      Hk = ρk ≤ 0.0 ? Hk : (I - ρk * sk * yk') * Hk * (I - ρk * yk * sk') + ρk * sk * sk'\n",
    "      if norm(sk) ≤ 1e-14\n",
    "        break\n",
    "      end\n",
    "      #H2 = Hk + sk * sk' * (dot(sk,yk) + yk'*Hk*yk )*ρk^2 - ρk*(Hk * yk * sk' + sk * yk'*Hk)\n",
    "    end\n",
    "    dk = - Hk * gk\n",
    "    slope = dot(dk, gk) # ≤ -1.0e-4 * norm(dk) * gnorm\n",
    "    t, fk = armijo(xk, dk, fk, slope, x->obj(stp.pb, x))\n",
    "\n",
    "    xk = xk + t * dk\n",
    "    gm = copy(gk)\n",
    "    gk = grad(stp.pb, xk)\n",
    "\n",
    "    OK = update_and_stop!(stp, x = xk, fx = fk, gx = gk)\n",
    "    @printf \"%2d %7.1e %7.1e %7.1e %7.1e\\n\" stp.meta.nb_of_stop fk norm(stp.current_state.current_score) t slope\n",
    "  end\n",
    "  stp.stopping_user_struct = Dict( :Hk => Hk)\n",
    "  return stp\n",
    "end"
   ]
  },
  {
   "cell_type": "markdown",
   "metadata": {},
   "source": [
    "## Tests\n",
    "We can now have some fun."
   ]
  },
  {
   "cell_type": "code",
   "execution_count": 6,
   "metadata": {},
   "outputs": [
    {
     "name": "stdout",
     "output_type": "stream",
     "text": [
      "Problem is  "
     ]
    },
    {
     "data": {
      "text/plain": [
       "NLPStopping{ADNLPModel,StoppingMeta{Float64,Float64,Nothing,Int64},StopRemoteControl,NLPAtX{Float64,Array{Float64,1},Array{Float64,2}},VoidStopping{Any,StoppingMeta,StopRemoteControl,GenericState,Nothing,VoidListofStates},VoidListofStates}\n",
       "It has no main_stp.\n",
       "It doesn't keep track of the state history.\n",
       "ADNLPModel - Model with automatic differentiation\n",
       "  Problem name: Generic\n",
       "   All variables: ████████████████████ 2      All constraints: ⋅⋅⋅⋅⋅⋅⋅⋅⋅⋅⋅⋅⋅⋅⋅⋅⋅⋅⋅⋅ 0     \n",
       "            free: ████████████████████ 2                 free: ⋅⋅⋅⋅⋅⋅⋅⋅⋅⋅⋅⋅⋅⋅⋅⋅⋅⋅⋅⋅ 0     \n",
       "           lower: ⋅⋅⋅⋅⋅⋅⋅⋅⋅⋅⋅⋅⋅⋅⋅⋅⋅⋅⋅⋅ 0                lower: ⋅⋅⋅⋅⋅⋅⋅⋅⋅⋅⋅⋅⋅⋅⋅⋅⋅⋅⋅⋅ 0     \n",
       "           upper: ⋅⋅⋅⋅⋅⋅⋅⋅⋅⋅⋅⋅⋅⋅⋅⋅⋅⋅⋅⋅ 0                upper: ⋅⋅⋅⋅⋅⋅⋅⋅⋅⋅⋅⋅⋅⋅⋅⋅⋅⋅⋅⋅ 0     \n",
       "         low/upp: ⋅⋅⋅⋅⋅⋅⋅⋅⋅⋅⋅⋅⋅⋅⋅⋅⋅⋅⋅⋅ 0              low/upp: ⋅⋅⋅⋅⋅⋅⋅⋅⋅⋅⋅⋅⋅⋅⋅⋅⋅⋅⋅⋅ 0     \n",
       "           fixed: ⋅⋅⋅⋅⋅⋅⋅⋅⋅⋅⋅⋅⋅⋅⋅⋅⋅⋅⋅⋅ 0                fixed: ⋅⋅⋅⋅⋅⋅⋅⋅⋅⋅⋅⋅⋅⋅⋅⋅⋅⋅⋅⋅ 0     \n",
       "          infeas: ⋅⋅⋅⋅⋅⋅⋅⋅⋅⋅⋅⋅⋅⋅⋅⋅⋅⋅⋅⋅ 0               infeas: ⋅⋅⋅⋅⋅⋅⋅⋅⋅⋅⋅⋅⋅⋅⋅⋅⋅⋅⋅⋅ 0     \n",
       "            nnzh: (  0.00% sparsity)   3               linear: ⋅⋅⋅⋅⋅⋅⋅⋅⋅⋅⋅⋅⋅⋅⋅⋅⋅⋅⋅⋅ 0     \n",
       "                                                    nonlinear: ⋅⋅⋅⋅⋅⋅⋅⋅⋅⋅⋅⋅⋅⋅⋅⋅⋅⋅⋅⋅ 0     \n",
       "                                                         nnzj: (------% sparsity)         \n",
       "\n",
       "  Counters:\n",
       "             obj: ⋅⋅⋅⋅⋅⋅⋅⋅⋅⋅⋅⋅⋅⋅⋅⋅⋅⋅⋅⋅ 0                 grad: ⋅⋅⋅⋅⋅⋅⋅⋅⋅⋅⋅⋅⋅⋅⋅⋅⋅⋅⋅⋅ 0                 cons: ⋅⋅⋅⋅⋅⋅⋅⋅⋅⋅⋅⋅⋅⋅⋅⋅⋅⋅⋅⋅ 0     \n",
       "            jcon: ⋅⋅⋅⋅⋅⋅⋅⋅⋅⋅⋅⋅⋅⋅⋅⋅⋅⋅⋅⋅ 0                jgrad: ⋅⋅⋅⋅⋅⋅⋅⋅⋅⋅⋅⋅⋅⋅⋅⋅⋅⋅⋅⋅ 0                  jac: ⋅⋅⋅⋅⋅⋅⋅⋅⋅⋅⋅⋅⋅⋅⋅⋅⋅⋅⋅⋅ 0     \n",
       "           jprod: ⋅⋅⋅⋅⋅⋅⋅⋅⋅⋅⋅⋅⋅⋅⋅⋅⋅⋅⋅⋅ 0               jtprod: ⋅⋅⋅⋅⋅⋅⋅⋅⋅⋅⋅⋅⋅⋅⋅⋅⋅⋅⋅⋅ 0                 hess: ⋅⋅⋅⋅⋅⋅⋅⋅⋅⋅⋅⋅⋅⋅⋅⋅⋅⋅⋅⋅ 0     \n",
       "           hprod: ⋅⋅⋅⋅⋅⋅⋅⋅⋅⋅⋅⋅⋅⋅⋅⋅⋅⋅⋅⋅ 0               jhprod: ⋅⋅⋅⋅⋅⋅⋅⋅⋅⋅⋅⋅⋅⋅⋅⋅⋅⋅⋅⋅ 0     \n",
       "No user-defined structure is furnished.\n"
      ]
     },
     "execution_count": 6,
     "metadata": {},
     "output_type": "execute_result"
    }
   ],
   "source": [
    "using Test\n",
    "\n",
    "############ PROBLEM TEST #############################################\n",
    "fH(x) = (x[2]+x[1].^2-11).^2+(x[1]+x[2].^2-7).^2\n",
    "nlp = ADNLPModel(fH, [10., 20.])\n",
    "stp = NLPStopping(nlp, optimality_check = unconstrained_check, \n",
    "                 atol = 1e-6, rtol = 0.0, max_iter = 100)"
   ]
  },
  {
   "cell_type": "code",
   "execution_count": 7,
   "metadata": {},
   "outputs": [
    {
     "name": "stdout",
     "output_type": "stream",
     "text": [
      " k        fk ||∇f(x)||       t       λ\n",
      " 0 1.7e+05 3.2e+04\n",
      " 1  2.73e+04 8.6e+03 1.0e-03 -1.1e+09\n",
      " 2  1.80e+03 1.1e+03 2.3e-03 -7.3e+07\n",
      " 3  1.24e+03 7.9e+02 1.2e-02 -1.3e+06\n",
      " 4  6.37e+01 2.4e+01 1.2e-02 -6.3e+05\n",
      " 5  1.34e+01 5.8e+01 2.0e-01 -8.3e+02\n",
      " 6  5.87e+00 2.5e+01 1.3e-01 -3.5e+03\n",
      " 7  2.88e+00 2.4e+01 2.6e-02 -6.7e+02\n",
      " 8  2.42e+00 1.8e+01 1.7e-02 -6.1e+02\n",
      " 9  6.58e-01 1.2e+01 1.2e-02 -6.1e+02\n",
      "10  1.64e-01 5.3e+00 1.2e-02 -1.7e+02\n",
      "11  4.96e-02 3.2e+00 1.2e-02 -4.4e+01\n",
      "12  1.44e-02 1.6e+00 1.2e-02 -1.3e+01\n",
      "13  4.35e-03 9.2e-01 1.2e-02 -3.9e+00\n",
      "14  1.29e-03 5.0e-01 1.2e-02 -1.2e+00\n",
      "15  3.87e-04 2.7e-01 1.2e-02 -3.5e-01\n",
      "16  1.15e-04 1.5e-01 1.2e-02 -1.0e-01\n",
      "17  3.45e-05 8.2e-02 1.2e-02 -3.1e-02\n",
      "18  1.03e-05 4.5e-02 1.2e-02 -9.2e-03\n",
      "19  3.08e-06 2.4e-02 1.2e-02 -2.8e-03\n",
      "20  9.21e-07 1.3e-02 1.2e-02 -8.2e-04\n",
      "21  2.75e-07 7.3e-03 1.2e-02 -2.5e-04\n",
      "22  8.23e-08 4.0e-03 1.2e-02 -7.4e-05\n",
      "23  2.46e-08 2.2e-03 1.2e-02 -2.2e-05\n",
      "24  7.35e-09 1.2e-03 1.2e-02 -6.6e-06\n",
      "25  2.20e-09 6.5e-04 1.2e-02 -2.0e-06\n",
      "26  6.57e-10 3.6e-04 1.2e-02 -5.9e-07\n",
      "27  1.96e-10 1.9e-04 1.2e-02 -1.8e-07\n",
      "28  5.87e-11 1.1e-04 1.2e-02 -5.3e-08\n",
      "29  1.75e-11 5.8e-05 1.2e-02 -1.6e-08\n",
      "30  5.24e-12 3.2e-05 1.2e-02 -4.7e-09\n",
      "31  1.57e-12 1.7e-05 1.2e-02 -1.4e-09\n",
      "32  4.68e-13 9.5e-06 1.2e-02 -4.2e-10\n",
      "33  1.40e-13 5.2e-06 1.2e-02 -1.3e-10\n",
      "34  4.18e-14 2.8e-06 1.2e-02 -3.7e-11\n",
      "35  1.25e-14 1.6e-06 1.2e-02 -1.1e-11\n",
      "36  3.74e-15 8.5e-07 1.2e-02 -3.3e-12\n",
      "elapsed_time(stp) = 0.9506950378417969\n",
      "nlp.counters =   Counters:\n",
      "             obj: ████████████████████ 889               grad: █⋅⋅⋅⋅⋅⋅⋅⋅⋅⋅⋅⋅⋅⋅⋅⋅⋅⋅⋅ 37                cons: ⋅⋅⋅⋅⋅⋅⋅⋅⋅⋅⋅⋅⋅⋅⋅⋅⋅⋅⋅⋅ 0     \n",
      "            jcon: ⋅⋅⋅⋅⋅⋅⋅⋅⋅⋅⋅⋅⋅⋅⋅⋅⋅⋅⋅⋅ 0                jgrad: ⋅⋅⋅⋅⋅⋅⋅⋅⋅⋅⋅⋅⋅⋅⋅⋅⋅⋅⋅⋅ 0                  jac: ⋅⋅⋅⋅⋅⋅⋅⋅⋅⋅⋅⋅⋅⋅⋅⋅⋅⋅⋅⋅ 0     \n",
      "           jprod: ⋅⋅⋅⋅⋅⋅⋅⋅⋅⋅⋅⋅⋅⋅⋅⋅⋅⋅⋅⋅ 0               jtprod: ⋅⋅⋅⋅⋅⋅⋅⋅⋅⋅⋅⋅⋅⋅⋅⋅⋅⋅⋅⋅ 0                 hess: ⋅⋅⋅⋅⋅⋅⋅⋅⋅⋅⋅⋅⋅⋅⋅⋅⋅⋅⋅⋅ 0     \n",
      "           hprod: ⋅⋅⋅⋅⋅⋅⋅⋅⋅⋅⋅⋅⋅⋅⋅⋅⋅⋅⋅⋅ 0               jhprod: ⋅⋅⋅⋅⋅⋅⋅⋅⋅⋅⋅⋅⋅⋅⋅⋅⋅⋅⋅⋅ 0     \n",
      "\n",
      " k      fk ||∇f(x)||       t     cos\n",
      " 0 1.7e+05 3.2e+04\n",
      " 1 2.7e+04 8.6e+03 1.0e-03 -1.1e+09\n",
      " 2 1.8e+04 4.5e+03 1.2e-02 -1.8e+06\n",
      " 3 2.5e+03 1.3e+03 1.0e+00 -7.1e+04\n",
      " 4 1.2e+03 8.5e+02 1.0e+00 -1.7e+03\n",
      " 5 3.2e+02 3.3e+02 1.0e+00 -1.4e+03\n",
      " 6 9.8e+01 1.4e+02 1.0e+00 -3.2e+02\n",
      " 7 2.7e+01 6.0e+01 1.0e+00 -1.1e+02\n",
      " 8 6.4e+00 2.4e+01 1.0e+00 -3.0e+01\n",
      " 9 9.9e-01 7.9e+00 1.0e+00 -8.2e+00\n",
      "10 6.3e-02 1.9e+00 1.0e+00 -1.5e+00\n",
      "11 8.7e-04 3.2e-01 1.0e+00 -1.1e-01\n",
      "12 3.6e-05 7.9e-02 1.0e+00 -1.6e-03\n",
      "13 1.4e-05 4.2e-02 1.0e+00 -2.9e-05\n",
      "14 2.0e-07 3.4e-03 1.0e+00 -2.6e-05\n",
      "15 4.1e-09 4.9e-04 1.0e+00 -3.6e-07\n",
      "16 2.9e-12 2.5e-05 1.0e+00 -8.1e-09\n",
      "17 2.5e-15 6.3e-07 1.0e+00 -5.6e-12\n",
      "elapsed_time(stp) = 0.017661094665527344\n",
      "nlp.counters =   Counters:\n",
      "             obj: ████████████████████ 91                grad: ████⋅⋅⋅⋅⋅⋅⋅⋅⋅⋅⋅⋅⋅⋅⋅⋅ 18                cons: ⋅⋅⋅⋅⋅⋅⋅⋅⋅⋅⋅⋅⋅⋅⋅⋅⋅⋅⋅⋅ 0     \n",
      "            jcon: ⋅⋅⋅⋅⋅⋅⋅⋅⋅⋅⋅⋅⋅⋅⋅⋅⋅⋅⋅⋅ 0                jgrad: ⋅⋅⋅⋅⋅⋅⋅⋅⋅⋅⋅⋅⋅⋅⋅⋅⋅⋅⋅⋅ 0                  jac: ⋅⋅⋅⋅⋅⋅⋅⋅⋅⋅⋅⋅⋅⋅⋅⋅⋅⋅⋅⋅ 0     \n",
      "           jprod: ⋅⋅⋅⋅⋅⋅⋅⋅⋅⋅⋅⋅⋅⋅⋅⋅⋅⋅⋅⋅ 0               jtprod: ⋅⋅⋅⋅⋅⋅⋅⋅⋅⋅⋅⋅⋅⋅⋅⋅⋅⋅⋅⋅ 0                 hess: ⋅⋅⋅⋅⋅⋅⋅⋅⋅⋅⋅⋅⋅⋅⋅⋅⋅⋅⋅⋅ 0     \n",
      "           hprod: ⋅⋅⋅⋅⋅⋅⋅⋅⋅⋅⋅⋅⋅⋅⋅⋅⋅⋅⋅⋅ 0               jhprod: ⋅⋅⋅⋅⋅⋅⋅⋅⋅⋅⋅⋅⋅⋅⋅⋅⋅⋅⋅⋅ 0     \n",
      "\n"
     ]
    },
    {
     "data": {
      "text/plain": [
       "  Counters:\n",
       "             obj: ████████████████████ 91                grad: ████⋅⋅⋅⋅⋅⋅⋅⋅⋅⋅⋅⋅⋅⋅⋅⋅ 18                cons: ⋅⋅⋅⋅⋅⋅⋅⋅⋅⋅⋅⋅⋅⋅⋅⋅⋅⋅⋅⋅ 0     \n",
       "            jcon: ⋅⋅⋅⋅⋅⋅⋅⋅⋅⋅⋅⋅⋅⋅⋅⋅⋅⋅⋅⋅ 0                jgrad: ⋅⋅⋅⋅⋅⋅⋅⋅⋅⋅⋅⋅⋅⋅⋅⋅⋅⋅⋅⋅ 0                  jac: ⋅⋅⋅⋅⋅⋅⋅⋅⋅⋅⋅⋅⋅⋅⋅⋅⋅⋅⋅⋅ 0     \n",
       "           jprod: ⋅⋅⋅⋅⋅⋅⋅⋅⋅⋅⋅⋅⋅⋅⋅⋅⋅⋅⋅⋅ 0               jtprod: ⋅⋅⋅⋅⋅⋅⋅⋅⋅⋅⋅⋅⋅⋅⋅⋅⋅⋅⋅⋅ 0                 hess: ⋅⋅⋅⋅⋅⋅⋅⋅⋅⋅⋅⋅⋅⋅⋅⋅⋅⋅⋅⋅ 0     \n",
       "           hprod: ⋅⋅⋅⋅⋅⋅⋅⋅⋅⋅⋅⋅⋅⋅⋅⋅⋅⋅⋅⋅ 0               jhprod: ⋅⋅⋅⋅⋅⋅⋅⋅⋅⋅⋅⋅⋅⋅⋅⋅⋅⋅⋅⋅ 0     \n"
      ]
     },
     "execution_count": 7,
     "metadata": {},
     "output_type": "execute_result"
    }
   ],
   "source": [
    "reinit!(stp, rstate = true, x = nlp.meta.x0)\n",
    "steepest_descent(stp)\n",
    "\n",
    "@test status(stp) == :Optimal\n",
    "@test stp.listofstates == VoidListofStates()\n",
    "\n",
    "@show elapsed_time(stp)\n",
    "@show nlp.counters\n",
    "\n",
    "reinit!(stp, rstate = true, x = nlp.meta.x0, rcounters = true)\n",
    "bfgs_quasi_newton_armijo(stp)\n",
    "\n",
    "@test status(stp) == :Optimal\n",
    "@test stp.listofstates == VoidListofStates()\n",
    "\n",
    "@show elapsed_time(stp)\n",
    "@show nlp.counters"
   ]
  },
  {
   "cell_type": "code",
   "execution_count": 8,
   "metadata": {},
   "outputs": [
    {
     "name": "stdout",
     "output_type": "stream",
     "text": [
      " k        fk ||∇f(x)||       t       λ\n",
      " 0 1.7e+05 3.2e+04\n",
      " 1  2.73e+04 8.6e+03 1.0e-03 -1.1e+09\n",
      " 2  1.80e+03 1.1e+03 2.3e-03 -7.3e+07\n",
      " 3  1.24e+03 7.9e+02 1.2e-02 -1.3e+06\n",
      " 4  6.37e+01 2.4e+01 1.2e-02 -6.3e+05\n",
      " 5  1.34e+01 5.8e+01 2.0e-01 -8.3e+02\n",
      " 6  5.87e+00 2.5e+01 1.3e-01 -3.5e+03\n",
      " k      fk ||∇f(x)||       t     cos\n",
      " 0 5.9e+00 2.5e+01\n",
      " 1 3.8e+00 2.7e+01 1.7e-02 -1.1e+03\n",
      " 2 2.8e+00 2.4e+01 4.4e-01 -1.1e+01\n",
      " 3 1.4e+00 1.2e+01 3.0e-01 -3.0e+01\n",
      " 4 1.1e-02 1.3e+00 1.0e+00 -2.5e+00\n",
      " 5 9.0e-05 9.2e-02 1.0e+00 -2.5e-02\n",
      " 6 7.9e-08 3.9e-03 1.0e+00 -1.8e-04\n",
      " 7 7.7e-10 3.8e-04 1.0e+00 -1.4e-07\n",
      " 8 1.3e-19 4.2e-09 1.0e+00 -1.5e-09\n",
      "elapsed_time(stp_warm) = 0.018288135528564453\n",
      "nlp.counters =   Counters:\n",
      "             obj: ████████████████████ 192               grad: ██⋅⋅⋅⋅⋅⋅⋅⋅⋅⋅⋅⋅⋅⋅⋅⋅⋅⋅ 16                cons: ⋅⋅⋅⋅⋅⋅⋅⋅⋅⋅⋅⋅⋅⋅⋅⋅⋅⋅⋅⋅ 0     \n",
      "            jcon: ⋅⋅⋅⋅⋅⋅⋅⋅⋅⋅⋅⋅⋅⋅⋅⋅⋅⋅⋅⋅ 0                jgrad: ⋅⋅⋅⋅⋅⋅⋅⋅⋅⋅⋅⋅⋅⋅⋅⋅⋅⋅⋅⋅ 0                  jac: ⋅⋅⋅⋅⋅⋅⋅⋅⋅⋅⋅⋅⋅⋅⋅⋅⋅⋅⋅⋅ 0     \n",
      "           jprod: ⋅⋅⋅⋅⋅⋅⋅⋅⋅⋅⋅⋅⋅⋅⋅⋅⋅⋅⋅⋅ 0               jtprod: ⋅⋅⋅⋅⋅⋅⋅⋅⋅⋅⋅⋅⋅⋅⋅⋅⋅⋅⋅⋅ 0                 hess: ⋅⋅⋅⋅⋅⋅⋅⋅⋅⋅⋅⋅⋅⋅⋅⋅⋅⋅⋅⋅ 0     \n",
      "           hprod: ⋅⋅⋅⋅⋅⋅⋅⋅⋅⋅⋅⋅⋅⋅⋅⋅⋅⋅⋅⋅ 0               jhprod: ⋅⋅⋅⋅⋅⋅⋅⋅⋅⋅⋅⋅⋅⋅⋅⋅⋅⋅⋅⋅ 0     \n",
      "\n"
     ]
    },
    {
     "data": {
      "text/plain": [
       "  Counters:\n",
       "             obj: ████████████████████ 192               grad: ██⋅⋅⋅⋅⋅⋅⋅⋅⋅⋅⋅⋅⋅⋅⋅⋅⋅⋅ 16                cons: ⋅⋅⋅⋅⋅⋅⋅⋅⋅⋅⋅⋅⋅⋅⋅⋅⋅⋅⋅⋅ 0     \n",
       "            jcon: ⋅⋅⋅⋅⋅⋅⋅⋅⋅⋅⋅⋅⋅⋅⋅⋅⋅⋅⋅⋅ 0                jgrad: ⋅⋅⋅⋅⋅⋅⋅⋅⋅⋅⋅⋅⋅⋅⋅⋅⋅⋅⋅⋅ 0                  jac: ⋅⋅⋅⋅⋅⋅⋅⋅⋅⋅⋅⋅⋅⋅⋅⋅⋅⋅⋅⋅ 0     \n",
       "           jprod: ⋅⋅⋅⋅⋅⋅⋅⋅⋅⋅⋅⋅⋅⋅⋅⋅⋅⋅⋅⋅ 0               jtprod: ⋅⋅⋅⋅⋅⋅⋅⋅⋅⋅⋅⋅⋅⋅⋅⋅⋅⋅⋅⋅ 0                 hess: ⋅⋅⋅⋅⋅⋅⋅⋅⋅⋅⋅⋅⋅⋅⋅⋅⋅⋅⋅⋅ 0     \n",
       "           hprod: ⋅⋅⋅⋅⋅⋅⋅⋅⋅⋅⋅⋅⋅⋅⋅⋅⋅⋅⋅⋅ 0               jhprod: ⋅⋅⋅⋅⋅⋅⋅⋅⋅⋅⋅⋅⋅⋅⋅⋅⋅⋅⋅⋅ 0     \n"
      ]
     },
     "execution_count": 8,
     "metadata": {},
     "output_type": "execute_result"
    }
   ],
   "source": [
    "NLPModels.reset!(nlp)\n",
    "stp_warm = NLPStopping(nlp, optimality_check = unconstrained_check, \n",
    "                      atol = 1e-6, rtol = 0.0, max_iter = 5, \n",
    "                      n_listofstates = 5) #shortcut for list = ListofStates(5, Val{NLPAtX{Float64,Array{Float64,1},Array{Float64,2}}}()))\n",
    "steepest_descent(stp_warm)\n",
    "@test status(stp_warm) == :IterationLimit\n",
    "@test length(stp_warm.listofstates) == 5\n",
    "\n",
    "Hwarm = I\n",
    "for i=2:5\n",
    "  sk = stp_warm.listofstates.list[i][1].x - stp_warm.listofstates.list[i-1][1].x \n",
    "  yk = stp_warm.listofstates.list[i][1].gx - stp_warm.listofstates.list[i-1][1].gx \n",
    "  ρk = 1/dot(yk, sk)\n",
    "  if ρk > 0.0\n",
    "    global Hwarm = (I - ρk * sk * yk') * Hwarm * (I - ρk * yk * sk') + ρk * sk * sk'\n",
    "  end\n",
    "end\n",
    "\n",
    "reinit!(stp_warm)\n",
    "stp_warm.meta.max_iter = 100\n",
    "bfgs_quasi_newton_armijo(stp_warm, Hk = Hwarm)\n",
    "status(stp_warm)\n",
    "\n",
    "@show elapsed_time(stp_warm)\n",
    "@show nlp.counters"
   ]
  }
 ],
 "metadata": {
  "kernelspec": {
   "display_name": "Julia 1.5.0",
   "language": "julia",
   "name": "julia-1.5"
  },
  "language_info": {
   "file_extension": ".jl",
   "mimetype": "application/julia",
   "name": "julia",
   "version": "1.5.0"
  }
 },
 "nbformat": 4,
 "nbformat_minor": 4
}
